{
 "cells": [
  {
   "cell_type": "markdown",
   "id": "bdfedd9c-9abf-43eb-8979-ce89e886f01e",
   "metadata": {},
   "source": [
    "question 1 _ how do you comment code in phython? what are the different types of comments"
   ]
  },
  {
   "cell_type": "code",
   "execution_count": 1,
   "id": "a7256f6a-a4e6-4ab9-ad8c-c7d7075af6f5",
   "metadata": {},
   "outputs": [
    {
     "name": "stdout",
     "output_type": "stream",
     "text": [
      "this is a single line comment\n"
     ]
    }
   ],
   "source": [
    "# this is a comment\n",
    "print (\"this is a single line comment\")"
   ]
  },
  {
   "cell_type": "code",
   "execution_count": 2,
   "id": "14e35e5f-bed6-4fcb-8955-01b9a3277bfe",
   "metadata": {},
   "outputs": [
    {
     "name": "stdout",
     "output_type": "stream",
     "text": [
      "this is a multi line comment\n"
     ]
    }
   ],
   "source": [
    "# i am happy to learn in pwskills\n",
    "# i love to do code\n",
    "# thank you sir \n",
    "print (\"this is a multi line comment\")"
   ]
  },
  {
   "cell_type": "markdown",
   "id": "d261e390-c567-452b-9058-a50b33a5bf52",
   "metadata": {},
   "source": [
    "ques 2_ what are variables in phython?How do you declare and assign values to variables?"
   ]
  },
  {
   "cell_type": "markdown",
   "id": "2cddc8cb-98ff-4da3-81e5-882e77a054d9",
   "metadata": {},
   "source": [
    "ok,let's I code a=1,here 'a' is a variable and '1' is a integer"
   ]
  },
  {
   "cell_type": "code",
   "execution_count": 3,
   "id": "af426785-b022-4f30-b425-a34122e83a88",
   "metadata": {},
   "outputs": [],
   "source": [
    "a = 1"
   ]
  },
  {
   "cell_type": "code",
   "execution_count": 4,
   "id": "1a0a1c78-a275-47e1-a078-67788479e418",
   "metadata": {},
   "outputs": [
    {
     "data": {
      "text/plain": [
       "int"
      ]
     },
     "execution_count": 4,
     "metadata": {},
     "output_type": "execute_result"
    }
   ],
   "source": [
    "type(a)"
   ]
  },
  {
   "cell_type": "markdown",
   "id": "525d4ac2-da7c-4f3b-b73e-e57d0637721c",
   "metadata": {},
   "source": [
    "ques 4_ how do you convert one data type to another in python?"
   ]
  },
  {
   "cell_type": "code",
   "execution_count": 5,
   "id": "a6bdd1f4-42c5-4cf9-806f-d4c784c13a00",
   "metadata": {},
   "outputs": [
    {
     "name": "stdout",
     "output_type": "stream",
     "text": [
      "x is of type: <class 'int'>\n",
      "y is of type: <class 'float'>\n",
      "z is of type: <class 'complex'>\n"
     ]
    }
   ],
   "source": [
    "x = 10\n",
    "print (\"x is of type:\" , type(x))\n",
    "y = 10.6\n",
    "print (\"y is of type:\" , type(y))\n",
    "z = 4+5j\n",
    "print (\"z is of type:\" , type(z))"
   ]
  },
  {
   "cell_type": "markdown",
   "id": "1b0d948c-488f-49bd-9a88-7a6dae947e8e",
   "metadata": {},
   "source": [
    "ques 3_ how do you write and execute a python script from the command line?"
   ]
  },
  {
   "cell_type": "code",
   "execution_count": 14,
   "id": "30f2089e-a33d-4fdf-bc0d-8287639e25b3",
   "metadata": {},
   "outputs": [
    {
     "name": "stdout",
     "output_type": "stream",
     "text": [
      "Nothing is more beautiful than nature Nature is the God's precious gift to earth\n"
     ]
    }
   ],
   "source": [
    "print (\"Nothing\",\"is\",\"more\",\"beautiful\",\"than\",\"nature\",\"Nature\",\"is\",\"the\",\"God's\",\"precious\",\"gift\",\"to\",\"earth\")"
   ]
  },
  {
   "cell_type": "markdown",
   "id": "6082437d-6071-45f6-ac03-9ff2b39e8f85",
   "metadata": {},
   "source": [
    "ques 5_given a list=[1,2,3,4,5],write the code to slice the list and obtain the sub-list[2,3]"
   ]
  },
  {
   "cell_type": "code",
   "execution_count": 22,
   "id": "bca96658-21ee-4c46-ac6f-637d7cf776ad",
   "metadata": {},
   "outputs": [],
   "source": [
    "my_list =[1,2,3,4,5]"
   ]
  },
  {
   "cell_type": "code",
   "execution_count": 24,
   "id": "45f07429-8550-4261-ab08-a90b037cd13d",
   "metadata": {},
   "outputs": [
    {
     "data": {
      "text/plain": [
       "list"
      ]
     },
     "execution_count": 24,
     "metadata": {},
     "output_type": "execute_result"
    }
   ],
   "source": [
    "type(my_list)"
   ]
  },
  {
   "cell_type": "code",
   "execution_count": 3,
   "id": "9bd6e176-f8ec-4b51-9a47-d1ea9f884329",
   "metadata": {},
   "outputs": [
    {
     "name": "stdout",
     "output_type": "stream",
     "text": [
      "[2, 3]\n"
     ]
    }
   ],
   "source": [
    "my_list =[1,2,3,4,5]\n",
    "print (my_list[1:3])"
   ]
  },
  {
   "cell_type": "markdown",
   "id": "78e0f1ef-5ebf-4ea5-b5a5-96d00144013b",
   "metadata": {},
   "source": [
    "ques 6_what is the complex number in mathematics, and how is it represented in python?"
   ]
  },
  {
   "cell_type": "code",
   "execution_count": 4,
   "id": "3a7f6466-3348-4e7a-a158-a6c5bcddabac",
   "metadata": {},
   "outputs": [],
   "source": [
    "x = 10+21j"
   ]
  },
  {
   "cell_type": "code",
   "execution_count": 5,
   "id": "c92bfe9b-6764-4650-a64e-7afb8f898a19",
   "metadata": {},
   "outputs": [
    {
     "data": {
      "text/plain": [
       "complex"
      ]
     },
     "execution_count": 5,
     "metadata": {},
     "output_type": "execute_result"
    }
   ],
   "source": [
    "type(x)"
   ]
  },
  {
   "cell_type": "markdown",
   "id": "6fee2647-e8f9-4a97-a5e7-9f1bbe9ee137",
   "metadata": {},
   "source": [
    "ques 7_what is the correct way to declare a variable named age and assign the value 25 to it?"
   ]
  },
  {
   "cell_type": "code",
   "execution_count": 6,
   "id": "eb113088-4691-4b99-900f-2c52abf030c9",
   "metadata": {},
   "outputs": [],
   "source": [
    "age = 25"
   ]
  },
  {
   "cell_type": "code",
   "execution_count": 7,
   "id": "b7d49949-b576-418c-807d-10f675f1414a",
   "metadata": {},
   "outputs": [
    {
     "data": {
      "text/plain": [
       "int"
      ]
     },
     "execution_count": 7,
     "metadata": {},
     "output_type": "execute_result"
    }
   ],
   "source": [
    "type(age)"
   ]
  },
  {
   "cell_type": "markdown",
   "id": "3706385e-98ed-41c1-a04a-6555b64a26c5",
   "metadata": {},
   "source": [
    "ques 8_declared a variable named price and assign the value 9.99 to it.what data type does this variable belong to?"
   ]
  },
  {
   "cell_type": "code",
   "execution_count": 8,
   "id": "b8b7081f-29a1-4e89-b8ea-8cd5960108b4",
   "metadata": {},
   "outputs": [],
   "source": [
    "price = 9.99"
   ]
  },
  {
   "cell_type": "code",
   "execution_count": 9,
   "id": "9e942674-6c5f-40cc-b999-96c5247ca2f1",
   "metadata": {},
   "outputs": [
    {
     "data": {
      "text/plain": [
       "float"
      ]
     },
     "execution_count": 9,
     "metadata": {},
     "output_type": "execute_result"
    }
   ],
   "source": [
    "type(price)"
   ]
  },
  {
   "cell_type": "markdown",
   "id": "0a0c3113-7d17-4388-9d32-748aaf53988a",
   "metadata": {},
   "source": [
    "ques 10_given the string \"Hello,World\"!,exact the substring \"World\"."
   ]
  },
  {
   "cell_type": "code",
   "execution_count": 10,
   "id": "5b4699a3-0bd7-4a37-98f9-29cd28db2d92",
   "metadata": {},
   "outputs": [],
   "source": [
    "s = \"Hello,World!\""
   ]
  },
  {
   "cell_type": "code",
   "execution_count": 11,
   "id": "5c8ac7cd-4194-4c36-abbe-1b628b4f4f67",
   "metadata": {},
   "outputs": [
    {
     "data": {
      "text/plain": [
       "str"
      ]
     },
     "execution_count": 11,
     "metadata": {},
     "output_type": "execute_result"
    }
   ],
   "source": [
    "type(s)"
   ]
  },
  {
   "cell_type": "code",
   "execution_count": 18,
   "id": "dccba5d5-5f77-44c5-958b-8762a74fcc9c",
   "metadata": {},
   "outputs": [
    {
     "data": {
      "text/plain": [
       "'World!'"
      ]
     },
     "execution_count": 18,
     "metadata": {},
     "output_type": "execute_result"
    }
   ],
   "source": [
    "s[6:]"
   ]
  },
  {
   "cell_type": "markdown",
   "id": "544fcafd-ebe0-4458-afc4-391f2e922b85",
   "metadata": {},
   "source": [
    "ques 11_create a variable named \"is_student\"and assign it a boolean value indicating whether you are currently a student or not."
   ]
  },
  {
   "cell_type": "code",
   "execution_count": 21,
   "id": "915a0602-85e1-496b-8ae3-d3c6caf87380",
   "metadata": {},
   "outputs": [
    {
     "name": "stdout",
     "output_type": "stream",
     "text": [
      "True\n",
      "you are currently a student or not\n"
     ]
    }
   ],
   "source": [
    "variable = \"is_student\"\n",
    "v = bool(variable)\n",
    "print(v)\n",
    "print(\"you are currently a student or not\")\n"
   ]
  },
  {
   "cell_type": "code",
   "execution_count": null,
   "id": "3877e143-3b56-425c-83a7-5c5ef654c79a",
   "metadata": {},
   "outputs": [],
   "source": []
  }
 ],
 "metadata": {
  "kernelspec": {
   "display_name": "Python 3 (ipykernel)",
   "language": "python",
   "name": "python3"
  },
  "language_info": {
   "codemirror_mode": {
    "name": "ipython",
    "version": 3
   },
   "file_extension": ".py",
   "mimetype": "text/x-python",
   "name": "python",
   "nbconvert_exporter": "python",
   "pygments_lexer": "ipython3",
   "version": "3.10.8"
  }
 },
 "nbformat": 4,
 "nbformat_minor": 5
}
